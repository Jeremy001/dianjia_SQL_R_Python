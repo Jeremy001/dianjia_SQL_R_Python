{
 "cells": [
  {
   "cell_type": "code",
   "execution_count": null,
   "metadata": {},
   "outputs": [],
   "source": [
    "from pyhive import hive\n",
    "cursor = hive.connect(host='myhadoop', auth='NOSASL', database='default').cursor()\n",
    "cursor.execute('select * from users limit 10')\n",
    "print(cursor.fetchone())\n",
    "print(cursor.fetchall())\n",
    "for i in range(7, 10):\n",
    "    sql = \"insert into users VALUEs ({},'username{}')\".format(i, str(i))\n",
    "    cursor.execute(sql)"
   ]
  }
 ],
 "metadata": {
  "kernelspec": {
   "display_name": "Python 3",
   "language": "python",
   "name": "python3"
  },
  "language_info": {
   "codemirror_mode": {
    "name": "ipython",
    "version": 3
   },
   "file_extension": ".py",
   "mimetype": "text/x-python",
   "name": "python",
   "nbconvert_exporter": "python",
   "pygments_lexer": "ipython3",
   "version": "3.6.4"
  }
 },
 "nbformat": 4,
 "nbformat_minor": 2
}
